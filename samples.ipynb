{
 "cells": [
  {
   "cell_type": "markdown",
   "metadata": {},
   "source": [
    "## Import SqliteCloudClient and SqliteCloudAccount\n",
    "\n",
    "SqliteCloudAccount is the class rapresenting your auth data for SqliteCloud\n",
    "\n",
    "SqliteCloudClient is the class managing the connection for you"
   ]
  },
  {
   "cell_type": "code",
   "execution_count": 1,
   "metadata": {},
   "outputs": [
    {
     "name": "stdout",
     "output_type": "stream",
     "text": [
      "Loading SQLITECLOUD lib from: /Users/sam/projects/codermine/sqlitecloud-sdk/C/libsqcloud.so\n"
     ]
    }
   ],
   "source": [
    "from sqlitecloud.conn_info import user,password,host,db_name,port\n",
    "from sqlitecloud.client import SqliteCloudClient, SqliteCloudAccount"
   ]
  },
  {
   "cell_type": "markdown",
   "metadata": {},
   "source": [
    "## Init a connection\n",
    "\n",
    "Initialize the client with account connection info"
   ]
  },
  {
   "cell_type": "code",
   "execution_count": 2,
   "metadata": {},
   "outputs": [],
   "source": [
    "account = SqliteCloudAccount(user, password, host, db_name, port)\n",
    "client = SqliteCloudClient(cloud_account=account)\n",
    "conn = client.open_connection()"
   ]
  },
  {
   "cell_type": "code",
   "execution_count": 3,
   "metadata": {},
   "outputs": [
    {
     "data": {
      "text/plain": [
       "'people'"
      ]
     },
     "execution_count": 3,
     "metadata": {},
     "output_type": "execute_result"
    }
   ],
   "source": [
    "db_name"
   ]
  },
  {
   "cell_type": "markdown",
   "metadata": {},
   "source": [
    "Then execute the query"
   ]
  },
  {
   "cell_type": "code",
   "execution_count": 4,
   "metadata": {},
   "outputs": [
    {
     "name": "stdout",
     "output_type": "stream",
     "text": [
      "select * from employees;\n"
     ]
    }
   ],
   "source": [
    "query = \"select * from employees;\"\n",
    "result = client.exec_query(query, conn)"
   ]
  },
  {
   "cell_type": "markdown",
   "metadata": {},
   "source": [
    "The result is an iterable"
   ]
  },
  {
   "cell_type": "code",
   "execution_count": 5,
   "metadata": {},
   "outputs": [
    {
     "name": "stdout",
     "output_type": "stream",
     "text": [
      "{'emp_id': 1, 'emp_name': b'Bobby Tables'}\n",
      "{'emp_id': 1, 'emp_name': b'Bobby Tables'}\n",
      "{'emp_id': 1, 'emp_name': b'Bobby Tables'}\n",
      "{'emp_id': 1, 'emp_name': b'Bobby Tables'}\n",
      "{'emp_id': 1, 'emp_name': b'Bobby Tables'}\n",
      "{'emp_id': 1, 'emp_name': b'Bobby Tables'}\n",
      "{'emp_id': 1, 'emp_name': b'Bobby Tables'}\n",
      "{'emp_id': 1, 'emp_name': b'Bobby Tables'}\n"
     ]
    }
   ],
   "source": [
    "for r in result:\n",
    "    print(r)"
   ]
  },
  {
   "cell_type": "markdown",
   "metadata": {},
   "source": [
    "Whe you are done clean up the connection"
   ]
  },
  {
   "cell_type": "code",
   "execution_count": 6,
   "metadata": {},
   "outputs": [],
   "source": [
    "client.disconnect(conn)\n"
   ]
  },
  {
   "cell_type": "markdown",
   "metadata": {},
   "source": [
    "You can bind values to parametric queries: you can pass parameters as positional values in an array"
   ]
  },
  {
   "cell_type": "code",
   "execution_count": 7,
   "metadata": {},
   "outputs": [
    {
     "name": "stdout",
     "output_type": "stream",
     "text": [
      "ev type: <class 'int'>\n",
      "ev type: <class 'str'>\n"
     ]
    }
   ],
   "source": [
    "new_connection = client.open_connection()\n",
    "result = client.exec_statement(\"select * from employees where emp_id = ? and emp_name = ? \", [1,'Bobby Tables'],conn=new_connection)\n",
    "for r in result:\n",
    "    print(r)\n",
    "client.disconnect(conn)"
   ]
  }
 ],
 "metadata": {
  "kernelspec": {
   "display_name": "venv",
   "language": "python",
   "name": "python3"
  },
  "language_info": {
   "codemirror_mode": {
    "name": "ipython",
    "version": 3
   },
   "file_extension": ".py",
   "mimetype": "text/x-python",
   "name": "python",
   "nbconvert_exporter": "python",
   "pygments_lexer": "ipython3",
   "version": "3.11.6"
  }
 },
 "nbformat": 4,
 "nbformat_minor": 2
}
