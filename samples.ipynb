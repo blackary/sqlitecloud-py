{
 "cells": [
  {
   "cell_type": "markdown",
   "metadata": {},
   "source": [
    "# How to query SQLite Cloud database (SQLite3 API)\n",
    "\n",
    "Before start:\n",
    "\n",
    "1. Create an account for free on [sqlitecloud.io](https://sqlitecloud.io/).\n",
    "2. Copy your connection string (keep it secret! It contains your API KEY).\n",
    "\n",
    "Let's start!"
   ]
  },
  {
   "cell_type": "code",
   "execution_count": null,
   "metadata": {},
   "outputs": [],
   "source": [
    "%pip install sqlitecloud"
   ]
  },
  {
   "cell_type": "code",
   "execution_count": 3,
   "metadata": {},
   "outputs": [],
   "source": [
    "import sqlitecloud\n",
    "\n",
    "# You can autoselect the database during the connection by adding the \n",
    "# database name as path of the SQLite Cloud connection string, eg:\n",
    "# conn = sqlitecloud.connect(\"sqlitecloud://myhost.sqlite.cloud:8860/mydatabase?apikey=myapikey\")\n",
    "sqlitecloud_connection_string = \"sqlitecloud://myhost.sqlite.cloud:8860/mydatabase?apikey=myapikey\"\n"
   ]
  },
  {
   "cell_type": "code",
   "execution_count": 4,
   "metadata": {},
   "outputs": [],
   "source": [
    "# Open the connection to SQLite Cloud\n",
    "conn = sqlitecloud.connect(sqlitecloud_connection_string)\n"
   ]
  },
  {
   "cell_type": "code",
   "execution_count": 5,
   "metadata": {},
   "outputs": [
    {
     "data": {
      "text/plain": [
       "<sqlitecloud.dbapi2.Cursor at 0x7236d5ed3e10>"
      ]
     },
     "execution_count": 5,
     "metadata": {},
     "output_type": "execute_result"
    }
   ],
   "source": [
    "# Select the database to use if not specified in the connection string\n",
    "db_name = \"chinook.sqlite\"\n",
    "conn.execute(f\"USE DATABASE {db_name}\")\n"
   ]
  },
  {
   "cell_type": "code",
   "execution_count": 6,
   "metadata": {},
   "outputs": [
    {
     "data": {
      "text/plain": [
       "(1, 'For Those About To Rock We Salute You', 1)"
      ]
     },
     "execution_count": 6,
     "metadata": {},
     "output_type": "execute_result"
    }
   ],
   "source": [
    "# The execution of the query generate the `Cursor` object\n",
    "# to fetch the results.\n",
    "cursor = conn.execute(\"SELECT * FROM albums\")\n",
    "cursor.fetchone()\n"
   ]
  },
  {
   "cell_type": "code",
   "execution_count": 7,
   "metadata": {},
   "outputs": [
    {
     "data": {
      "text/plain": [
       "(31, 'My brand new genre')"
      ]
     },
     "execution_count": 7,
     "metadata": {},
     "output_type": "execute_result"
    }
   ],
   "source": [
    "# You can use the cursor to perform other queries.\n",
    "# Queries can be prepared with `question mark` and `named` style\n",
    "cursor = conn.execute(\"INSERT INTO genres (Name) values (?)\", (\"My brand new genre\",))\n",
    "\n",
    "cursor.execute(\"SELECT * FROM genres WHERE Name like :name\", {\"name\": \"My brand%\"})\n",
    "\n",
    "cursor.fetchone()\n"
   ]
  },
  {
   "cell_type": "code",
   "execution_count": 8,
   "metadata": {},
   "outputs": [],
   "source": [
    "# When you are done clean up the connection\n",
    "conn.close()\n"
   ]
  },
  {
   "cell_type": "markdown",
   "metadata": {},
   "source": [
    "### sqlitecloud loves sqlite3\n",
    "\n",
    "Is your project based on the `sqlite3` library to interact with a SQLite database?\n",
    "\n",
    "Just install `sqlitecloud` package from `pip` and change the module name! That's it!\n",
    "\n",
    "Try it yourself:"
   ]
  },
  {
   "cell_type": "code",
   "execution_count": 9,
   "metadata": {},
   "outputs": [
    {
     "name": "stdout",
     "output_type": "stream",
     "text": [
      "(1, 'Sony Music Entertainment', 2020)\n",
      "(2, 'EMI Music Publishing', 2021)\n"
     ]
    }
   ],
   "source": [
    "import sqlite3\n",
    "\n",
    "import sqlitecloud\n",
    "\n",
    "# Comment out the following line\n",
    "conn = sqlite3.connect(\":memory:\")\n",
    "# and uncomment this one to use the sqlitecloud package\n",
    "# conn = sqlitecloud.connect(sqlitecloud_connection_string)\n",
    "\n",
    "conn.execute(\n",
    "    \"CREATE TABLE IF NOT EXISTS producers (ProducerId INTEGER PRIMARY KEY, name TEXT, year INTEGER)\"\n",
    ")\n",
    "conn.executemany(\n",
    "    \"INSERT INTO producers (name, year) VALUES (?, ?)\",\n",
    "    [(\"Sony Music Entertainment\", 2020), (\"EMI Music Publishing\", 2021)],\n",
    ")\n",
    "\n",
    "cursor = conn.execute(\"SELECT * FROM producers\")\n",
    "\n",
    "for row in cursor:\n",
    "    print(row)\n"
   ]
  },
  {
   "cell_type": "markdown",
   "metadata": {},
   "source": [
    "### SQLite Cloud for Pandas DataFrame\n",
    "\n",
    "[Pandas](https://pypi.org/project/pandas/) is a Python package for data manipulation and analysis. It provides high-performance, easy-to-use data structures, such as DataFrame.\n",
    "\n",
    "Use the connection to SQLite Cloud to:\n",
    "- Insert data from a DataFrame into a SQLite Cloud database.\n",
    "- Query SQLite Cloud and fetch the results into a DataFrame for further analysis.\n",
    "\n",
    "Example:"
   ]
  },
  {
   "cell_type": "code",
   "execution_count": 10,
   "metadata": {},
   "outputs": [
    {
     "name": "stdout",
     "output_type": "stream",
     "text": [
      "       DATE CURRENCY      PRICE\n",
      "0  20230504      USD  201.23456\n",
      "1  20230503      USD   12.34567\n",
      "2  20230502      USD   23.45678\n",
      "3  20230501      USD   34.56789\n"
     ]
    }
   ],
   "source": [
    "import io\n",
    "\n",
    "import pandas as pd\n",
    "\n",
    "import sqlitecloud\n",
    "\n",
    "dfprices = pd.read_csv(\n",
    "    io.StringIO(\n",
    "        \"\"\"DATE,CURRENCY,PRICE\n",
    "    20230504,USD,201.23456\n",
    "    20230503,USD,12.34567\n",
    "    20230502,USD,23.45678\n",
    "    20230501,USD,34.56789\"\"\"\n",
    "    )\n",
    ")\n",
    "\n",
    "conn = sqlitecloud.connect(sqlitecloud_connection_string)\n",
    "\n",
    "conn.executemany(\"DROP TABLE IF EXISTS ?\", [(\"PRICES\",)])\n",
    "\n",
    "# Write the dataframe to the SQLite Cloud database as a table PRICES\n",
    "dfprices.to_sql(\"PRICES\", conn, index=False)\n",
    "\n",
    "# Create the dataframe from the table PRICES on the SQLite Cloud database\n",
    "df_actual_prices = pd.read_sql(\"SELECT * FROM PRICES\", conn)\n",
    "\n",
    "# Inspect the dataframe\n",
    "print(df_actual_prices.head())"
   ]
  },
  {
   "cell_type": "code",
   "execution_count": 11,
   "metadata": {},
   "outputs": [
    {
     "name": "stdout",
     "output_type": "stream",
     "text": [
      "       DATE CURRENCY      PRICE\n",
      "0  20230504      USD  201.23456\n"
     ]
    }
   ],
   "source": [
    "# Perform a simple query on the dataframe\n",
    "query_result = df_actual_prices.query(\"PRICE > 50.00\")\n",
    "\n",
    "print(query_result)"
   ]
  }
 ],
 "metadata": {
  "kernelspec": {
   "display_name": "venv",
   "language": "python",
   "name": "python3"
  },
  "language_info": {
   "codemirror_mode": {
    "name": "ipython",
    "version": 3
   },
   "file_extension": ".py",
   "mimetype": "text/x-python",
   "name": "python",
   "nbconvert_exporter": "python",
   "pygments_lexer": "ipython3",
   "version": "3.6.15"
  }
 },
 "nbformat": 4,
 "nbformat_minor": 2
}
